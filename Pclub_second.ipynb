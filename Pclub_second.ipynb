{
  "nbformat": 4,
  "nbformat_minor": 0,
  "metadata": {
    "colab": {
      "provenance": []
    },
    "kernelspec": {
      "name": "python3",
      "display_name": "Python 3"
    },
    "language_info": {
      "name": "python"
    }
  },
  "cells": [
    {
      "cell_type": "code",
      "execution_count": 1,
      "metadata": {
        "colab": {
          "base_uri": "https://localhost:8080/"
        },
        "id": "nSgDtH-Y6NZI",
        "outputId": "bf3360d7-dc03-4c85-bd3a-45f8d079d402"
      },
      "outputs": [
        {
          "output_type": "stream",
          "name": "stdout",
          "text": [
            "   Age  Gender      Height  Cough  Shortness_of_Breath  Chest_Pain  \\\n",
            "0   44       0  190.271048      0                    0           0   \n",
            "1   47       1  158.081233      1                    0           0   \n",
            "2   64       0  125.933549      1                    0           1   \n",
            "3   67       1  123.915794      1                    1           1   \n",
            "4   67       1  145.286953      1                    0           0   \n",
            "\n",
            "   Tidal_Volume  \n",
            "0      8.816807  \n",
            "1      9.115751  \n",
            "2      3.235542  \n",
            "3      5.418336  \n",
            "4      7.828486  \n",
            "Mean Squared Error: 25.233649344578293\n",
            "R^2 Score: 0.0036298710464576223\n"
          ]
        }
      ],
      "source": [
        "import numpy as np\n",
        "import pandas as pd\n",
        "from sklearn.model_selection import train_test_split\n",
        "from sklearn.linear_model import LinearRegression\n",
        "from sklearn.metrics import mean_squared_error, r2_score\n",
        "import matplotlib.pyplot as plt\n",
        "num_samples = 1000\n",
        "np.random.seed(0)\n",
        "ages = np.random.randint(0, 101, num_samples)\n",
        "genders = np.random.randint(0, 2, num_samples)\n",
        "heights = np.random.uniform(100, 201, num_samples)\n",
        "cough = np.random.randint(0, 2, num_samples)\n",
        "shortness_of_breath = np.random.randint(0, 2, num_samples)\n",
        "chest_pain = np.random.randint(0, 2, num_samples)\n",
        "base_tidal_volume = (heights * 0.03 + ages * 0.02 + genders * 0.2) + np.random.normal(0, 5, num_samples)\n",
        "tidal_volume = base_tidal_volume - (cough * 0.15 + shortness_of_breath * 0.2 + chest_pain * 0.1)\n",
        "\n",
        "data = pd.DataFrame({\n",
        "    'Age': ages,\n",
        "    'Gender': genders,\n",
        "    'Height': heights,\n",
        "    'Cough': cough,\n",
        "    'Shortness_of_Breath': shortness_of_breath,\n",
        "    'Chest_Pain': chest_pain,\n",
        "    'Tidal_Volume': tidal_volume\n",
        "})\n",
        "data.to_csv('synthetic_lung_function_data.csv', index=False)\n",
        "print(data.head())\n",
        "data = pd.read_csv('synthetic_lung_function_data.csv')\n",
        "X = data[['Age', 'Gender', 'Height', 'Cough', 'Shortness_of_Breath', 'Chest_Pain']]\n",
        "y = data['Tidal_Volume']\n",
        "X_train, X_test, y_train, y_test = train_test_split(X, y, test_size=0.2, random_state=0)\n",
        "model = LinearRegression()\n",
        "model.fit(X_train, y_train)\n",
        "y_pred = model.predict(X_test)\n",
        "mse = mean_squared_error(y_test, y_pred)\n",
        "r2 = r2_score(y_test, y_pred)\n",
        "print(f'Mean Squared Error: {mse}')\n",
        "print(f'R^2 Score: {r2}')\n"
      ]
    }
  ]
}